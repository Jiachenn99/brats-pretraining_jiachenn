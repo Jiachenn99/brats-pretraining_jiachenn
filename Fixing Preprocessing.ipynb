{
 "cells": [
  {
   "cell_type": "code",
   "execution_count": 51,
   "id": "altered-tooth",
   "metadata": {},
   "outputs": [],
   "source": [
    "import numpy as np\n",
    "from batchgenerators.utilities.file_and_folder_operations import *\n",
    "import SimpleITK as sitk\n",
    "import nibabel as nib\n",
    "import skimage\n",
    "import matplotlib.pyplot as plt\n",
    "\n",
    "base_path = \"C:/Users/JiachennCJC/Documents/GitHub/brats-pretraining_jiachenn/\"\n",
    "brats_folder_with_training_data_2020 = f\"{base_path}MICCAI_BraTS2020_TrainingData/\"\n",
    "brats_folder_with_validation_data_2020 = f\"{base_path}MICCAI_BraTS2020_ValidationData/\"\n",
    "training_data_path = brats_folder_with_training_data_2020\n",
    "validation_data_path = brats_folder_with_validation_data_2020"
   ]
  },
  {
   "cell_type": "code",
   "execution_count": 52,
   "id": "overall-master",
   "metadata": {},
   "outputs": [],
   "source": [
    "def get_list_of_files_2020(base_dir):\n",
    "    \"\"\"\n",
    "    returns a list of lists containing the filenames. The outer list contains all training examples. Each entry in the\n",
    "    outer list is again a list pointing to the files of that training example in the following order:\n",
    "    T1, T1c, T2, FLAIR, segmentation\n",
    "    :param base_dir:\n",
    "    :return:\n",
    "    \"\"\"\n",
    "    list_of_lists = []\n",
    "    # current_directory = join(base_dir, glioma_type)\n",
    "    current_directory = base_dir\n",
    "    print(\"Current dir: \",current_directory)\n",
    "    patients = subfolders(current_directory, join=False)\n",
    "    for p in patients:\n",
    "        patient_directory = join(current_directory, p)\n",
    "        t1_file = join(patient_directory, p + \"_t1.nii.gz\")\n",
    "        t1c_file = join(patient_directory, p + \"_t1ce.nii.gz\")\n",
    "        t2_file = join(patient_directory, p + \"_t2.nii.gz\")\n",
    "        flair_file = join(patient_directory, p + \"_flair.nii.gz\")\n",
    "        seg_file = join(patient_directory, p + \"_seg.nii.gz\")\n",
    "        this_case = [t1_file, t1c_file, t2_file, flair_file, seg_file]\n",
    "        # this_case = [t1_file, t1c_file, t2_file, flair_file]\n",
    "        assert all((isfile(i) for i in this_case)), \"some file is missing for patient %s; make sure the following \" \\\n",
    "                                                    \"files are there: %s\" % (p, str(this_case))\n",
    "        list_of_lists.append(this_case)\n",
    "    print(\"Found %d patients\" % len(list_of_lists))\n",
    "    return list_of_lists\n",
    "\n",
    "def get_list_of_files_2020_val(base_dir):\n",
    "    \"\"\"\n",
    "    returns a list of lists containing the filenames. The outer list contains all training examples. Each entry in the\n",
    "    outer list is again a list pointing to the files of that training example in the following order:\n",
    "    T1, T1c, T2, FLAIR, segmentation\n",
    "    :param base_dir:\n",
    "    :return:\n",
    "    \"\"\"\n",
    "    list_of_lists = []\n",
    "    # current_directory = join(base_dir, glioma_type)\n",
    "    current_directory = base_dir\n",
    "    print(\"Current dir: \",current_directory)\n",
    "    patients = subfolders(current_directory, join=False)\n",
    "    for p in patients:\n",
    "        patient_directory = join(current_directory, p)\n",
    "        t1_file = join(patient_directory, p + \"_t1.nii.gz\")\n",
    "        t1c_file = join(patient_directory, p + \"_t1ce.nii.gz\")\n",
    "        t2_file = join(patient_directory, p + \"_t2.nii.gz\")\n",
    "        flair_file = join(patient_directory, p + \"_flair.nii.gz\")\n",
    "#         seg_file = join(patient_directory, p + \"_seg.nii.gz\")\n",
    "#         this_case = [t1_file, t1c_file, t2_file, flair_file, seg_file]\n",
    "        this_case = [t1_file, t1c_file, t2_file, flair_file]\n",
    "        assert all((isfile(i) for i in this_case)), \"some file is missing for patient %s; make sure the following \" \\\n",
    "                                                    \"files are there: %s\" % (p, str(this_case))\n",
    "        list_of_lists.append(this_case)\n",
    "    print(\"Found %d patients\" % len(list_of_lists))\n",
    "    return list_of_lists\n",
    "\n",
    "def load_and_preprocess_UPDATED2020(case, patient_name, output_folder):\n",
    "\n",
    "    print(\"Using the new preprocess thingy\")\n",
    "    # print(\"in patient name: \", patient_name)\n",
    "    # print(\"in output folder: \", output_folder)\n",
    "    \"\"\"\n",
    "    loads, preprocesses and saves a case\n",
    "    This is what happens here:\n",
    "    1) load all images and stack them to a 4d array\n",
    "    2) crop to nonzero region, this removes unnecessary zero-valued regions and reduces computation time\n",
    "    3) normalize the nonzero region with its mean and standard deviation\n",
    "    4) save 4d tensor as numpy array. Also save metadata required to create niftis again (required for export\n",
    "    of predictions)\n",
    "\n",
    "    :param case:\n",
    "    :param patient_name:\n",
    "    :return:\n",
    "    \"\"\"\n",
    "    # load SimpleITK Images\n",
    "    imgs_sitk = [sitk.ReadImage(i) for i in case]\n",
    "\n",
    "    # get pixel arrays from SimpleITK images\n",
    "    imgs_npy = [sitk.GetArrayFromImage(i) for i in imgs_sitk]\n",
    "\n",
    "    # get some metadata\n",
    "    spacing = imgs_sitk[0].GetSpacing()\n",
    "    # the spacing returned by SimpleITK is in inverse order relative to the numpy array we receive. If we wanted to\n",
    "    # resample the data and if the spacing was not isotropic (in BraTS all cases have already been resampled to 1x1x1mm\n",
    "    # by the organizers) then we need to pay attention here. Therefore we bring the spacing into the correct order so\n",
    "    # that spacing[0] actually corresponds to the spacing of the first axis of the numpy array\n",
    "    spacing = np.array(spacing)[::-1]\n",
    "\n",
    "    direction = imgs_sitk[0].GetDirection()\n",
    "    origin = imgs_sitk[0].GetOrigin()\n",
    "\n",
    "    original_shape = imgs_npy[0].shape\n",
    "\n",
    "    # now stack the images into one 4d array, cast to float because we will get rounding problems if we don't\n",
    "    imgs_npy = np.concatenate([i[None] for i in imgs_npy]).astype(np.float32)\n",
    "\n",
    "    # now find the nonzero region and crop to that\n",
    "    nonzero = [np.array(np.where(i != 0)) for i in imgs_npy]\n",
    "    nonzero = [[np.min(i, 1), np.max(i, 1)] for i in nonzero]\n",
    "    nonzero = np.array([np.min([i[0] for i in nonzero], 0), np.max([i[1] for i in nonzero], 0)]).T\n",
    "    # nonzero now has shape 3, 2. It contains the (min, max) coordinate of nonzero voxels for each axis\n",
    "\n",
    "    # now crop to nonzero\n",
    "    imgs_npy = imgs_npy[:,\n",
    "               nonzero[0, 0] : nonzero[0, 1] + 1,\n",
    "               nonzero[1, 0]: nonzero[1, 1] + 1,\n",
    "               nonzero[2, 0]: nonzero[2, 1] + 1,\n",
    "               ]\n",
    "\n",
    "    # now we create a brain mask that we use for normalization\n",
    "    nonzero_masks = [i != 0 for i in imgs_npy[:-1]]\n",
    "    brain_mask = np.zeros(imgs_npy.shape[1:], dtype=bool)\n",
    "    for i in range(len(nonzero_masks)):\n",
    "        brain_mask = brain_mask | nonzero_masks[i]\n",
    "\n",
    "    # now normalize each modality with its mean and standard deviation (computed within the brain mask)\n",
    "    for i in range(len(imgs_npy) - 1):\n",
    "        mean = imgs_npy[i][brain_mask].mean()\n",
    "        std = imgs_npy[i][brain_mask].std()\n",
    "        imgs_npy[i] = (imgs_npy[i] - mean) / (std + 1e-8)\n",
    "        imgs_npy[i][brain_mask == 0] = 0\n",
    "\n",
    "    # the segmentation of brats has the values 0, 1, 2 and 4. This is pretty inconvenient to say the least.\n",
    "    # We move everything that is 4 to 3\n",
    "    imgs_npy[-1][imgs_npy[-1] == 4] = 3\n",
    "\n",
    "    # now save as npz\n",
    "    np.save(join(output_folder, patient_name + \".npy\"), imgs_npy)\n",
    "    # print(\"Output folder end: \", join(output_folder, patient_name + \".npy\"))\n",
    "    # print(\"\\n\")\n",
    "\n",
    "\n",
    "    metadata = {\n",
    "        'spacing': spacing,\n",
    "        'direction': direction,\n",
    "        'origin': origin,\n",
    "        'original_shape': original_shape,\n",
    "        'nonzero_region': nonzero\n",
    "    }\n",
    "\n",
    "    save_pickle(metadata, join(output_folder, patient_name + \".pkl\"))\n",
    "\n",
    "    \n",
    "def predict_patient_in_patches(patient_data, model):\n",
    "    # we pad the patient data in order to fit the patches in it\n",
    "    patient_data_pd = pad_nd_image(patient_data, [144, 192, 192]) # 24*6, 128+2*32, 128+2*32\n",
    "    # patches.shape = (1, 1, 6, 3, 3, 1, 3, 24, 128, 128)\n",
    "    steps = (1,1,args.patch_depth,int(args.patch_width/4),int(args.patch_height/4))\n",
    "    window_shape = (1, 3, args.patch_depth, args.patch_width, args.patch_height)\n",
    "    patches = skimage.util.view_as_windows(patient_data_pd[:, :3, :, :, :], window_shape=window_shape, step=steps)\n",
    "    \n",
    "    # (1, 4, 138, 169, 141)\n",
    "    target_shape = list(patient_data_pd.shape)\n",
    "    print(f\"Target shape in predict patient in patches is: {target_shape}\")\n",
    "\n",
    "    if args.multi_class:\n",
    "        target_shape[1] = 4\n",
    "    else:\n",
    "        target_shape[1] = 1 # only one output channel\n",
    "    prediction = torch.zeros(*target_shape)\n",
    "    if args.use_gpu:\n",
    "        prediction = prediction.cuda()\n",
    "    \n",
    "    for i in range(patches.shape[2]):\n",
    "        for j in range(patches.shape[3]):\n",
    "            for k in range(patches.shape[4]):\n",
    "                data = torch.from_numpy(patches[0, 0, i, j, k])\n",
    "                if args.use_gpu:\n",
    "                    data = data.cuda()\n",
    "                output = model.forward(data)\n",
    "\n",
    "                prediction[:, :,\n",
    "                           i*steps[2]:i*steps[2]+window_shape[2],\n",
    "                           j*steps[3]:j*steps[3]+window_shape[3],\n",
    "                           k*steps[4]:k*steps[4]+window_shape[4]] += output\n",
    "                    \n",
    "    return prediction"
   ]
  },
  {
   "cell_type": "code",
   "execution_count": 53,
   "id": "sonic-massachusetts",
   "metadata": {},
   "outputs": [
    {
     "name": "stdout",
     "output_type": "stream",
     "text": [
      "Current dir:  C:/Users/JiachennCJC/Documents/GitHub/brats-pretraining_jiachenn/MICCAI_BraTS2020_TrainingData/\n",
      "Found 369 patients\n",
      "Current dir:  C:/Users/JiachennCJC/Documents/GitHub/brats-pretraining_jiachenn/MICCAI_BraTS2020_ValidationData/\n",
      "Found 125 patients\n"
     ]
    }
   ],
   "source": [
    "patient_folders_train = get_list_of_files_2020(brats_folder_with_training_data_2020)\n",
    "patient_folders_validation = get_list_of_files_2020_val(brats_folder_with_validation_data_2020)\n",
    "patient_names_train = [i[0].split('\\\\')[-2] for i in patient_folders_train] \n",
    "patient_names_valid = [i[0].split('\\\\')[-2] for i in patient_folders_validation] "
   ]
  },
  {
   "cell_type": "code",
   "execution_count": 33,
   "id": "american-trinidad",
   "metadata": {},
   "outputs": [
    {
     "data": {
      "text/plain": [
       "['C:/Users/JiachennCJC/Documents/GitHub/brats-pretraining_jiachenn/MICCAI_BraTS2020_TrainingData/BraTS20_Training_001\\\\BraTS20_Training_001_t1.nii.gz',\n",
       " 'C:/Users/JiachennCJC/Documents/GitHub/brats-pretraining_jiachenn/MICCAI_BraTS2020_TrainingData/BraTS20_Training_001\\\\BraTS20_Training_001_t1ce.nii.gz',\n",
       " 'C:/Users/JiachennCJC/Documents/GitHub/brats-pretraining_jiachenn/MICCAI_BraTS2020_TrainingData/BraTS20_Training_001\\\\BraTS20_Training_001_t2.nii.gz',\n",
       " 'C:/Users/JiachennCJC/Documents/GitHub/brats-pretraining_jiachenn/MICCAI_BraTS2020_TrainingData/BraTS20_Training_001\\\\BraTS20_Training_001_flair.nii.gz',\n",
       " 'C:/Users/JiachennCJC/Documents/GitHub/brats-pretraining_jiachenn/MICCAI_BraTS2020_TrainingData/BraTS20_Training_001\\\\BraTS20_Training_001_seg.nii.gz']"
      ]
     },
     "execution_count": 33,
     "metadata": {},
     "output_type": "execute_result"
    }
   ],
   "source": [
    "case = patient_folders_train[0:2]\n",
    "case[0]"
   ]
  },
  {
   "cell_type": "code",
   "execution_count": 14,
   "id": "seventh-davis",
   "metadata": {},
   "outputs": [
    {
     "data": {
      "text/plain": [
       "['C:/Users/JiachennCJC/Documents/GitHub/brats-pretraining_jiachenn/MICCAI_BraTS2020_ValidationData/BraTS20_Validation_001\\\\BraTS20_Validation_001_t1.nii.gz',\n",
       " 'C:/Users/JiachennCJC/Documents/GitHub/brats-pretraining_jiachenn/MICCAI_BraTS2020_ValidationData/BraTS20_Validation_001\\\\BraTS20_Validation_001_t1ce.nii.gz',\n",
       " 'C:/Users/JiachennCJC/Documents/GitHub/brats-pretraining_jiachenn/MICCAI_BraTS2020_ValidationData/BraTS20_Validation_001\\\\BraTS20_Validation_001_t2.nii.gz',\n",
       " 'C:/Users/JiachennCJC/Documents/GitHub/brats-pretraining_jiachenn/MICCAI_BraTS2020_ValidationData/BraTS20_Validation_001\\\\BraTS20_Validation_001_flair.nii.gz']"
      ]
     },
     "execution_count": 14,
     "metadata": {},
     "output_type": "execute_result"
    }
   ],
   "source": [
    "case = patient_folders_validation[0:2]\n",
    "case[0]"
   ]
  },
  {
   "cell_type": "code",
   "execution_count": 66,
   "id": "expressed-substance",
   "metadata": {},
   "outputs": [
    {
     "name": "stdout",
     "output_type": "stream",
     "text": [
      "(5, 155, 240, 240)\n",
      "(155, 240, 240)\n",
      "float32\n"
     ]
    }
   ],
   "source": [
    "# Training data read\n",
    "test = sitk.ReadImage(case[0])\n",
    "test_np_array = sitk.GetArrayFromImage(test)\n",
    "\n",
    "test_np_array = np.concatenate([i[None] for i in test_np_array]).astype(np.float32)\n",
    "print(test_np_array.shape)\n",
    "print(test_np_array[-1].shape)\n",
    "print(test_np_array[-1].dtype)"
   ]
  },
  {
   "cell_type": "code",
   "execution_count": 79,
   "id": "stopped-hierarchy",
   "metadata": {},
   "outputs": [],
   "source": [
    "test = np.zeros([240,240,155],dtype=\"float32\")\n",
    "test.shape\n",
    "img = nib.Nifti1Image(test, np.eye(4))\n",
    "img.get_fdata().shape\n",
    "nib.save(img, \"TESTINGDUMMYSEG.nii.gz\")"
   ]
  },
  {
   "cell_type": "code",
   "execution_count": 136,
   "id": "advisory-minute",
   "metadata": {},
   "outputs": [
    {
     "data": {
      "text/plain": [
       "(155, 240, 240)"
      ]
     },
     "execution_count": 136,
     "metadata": {},
     "output_type": "execute_result"
    }
   ],
   "source": [
    "nib.load(\"TESTINGDUMMYSEG.nii.gz\").get_fdata().shape\n",
    "dummy_img = sitk.GetArrayFromImage(sitk.ReadImage(\"TESTINGDUMMYSEG.nii.gz\"))\n",
    "dummy_img.shape"
   ]
  },
  {
   "cell_type": "code",
   "execution_count": 191,
   "id": "alone-miami",
   "metadata": {},
   "outputs": [
    {
     "name": "stdout",
     "output_type": "stream",
     "text": [
      "[array([[  0,   0,   0, ..., 154, 154, 154],\n",
      "       [  0,   0,   0, ..., 239, 239, 239],\n",
      "       [  0,   1,   2, ..., 237, 238, 239]], dtype=int64), array([[  0,   0,   0, ..., 154, 154, 154],\n",
      "       [  0,   0,   0, ..., 239, 239, 239],\n",
      "       [  0,   1,   2, ..., 237, 238, 239]], dtype=int64), array([[  0,   0,   0, ..., 154, 154, 154],\n",
      "       [  0,   0,   0, ..., 239, 239, 239],\n",
      "       [  0,   1,   2, ..., 237, 238, 239]], dtype=int64), array([[  0,   0,   0, ..., 154, 154, 154],\n",
      "       [  0,   0,   0, ..., 239, 239, 239],\n",
      "       [  0,   1,   2, ..., 237, 238, 239]], dtype=int64), array([[  0,   0,   0, ..., 154, 154, 154],\n",
      "       [  0,   0,   0, ..., 239, 239, 239],\n",
      "       [  0,   1,   2, ..., 237, 238, 239]], dtype=int64)]\n"
     ]
    }
   ],
   "source": [
    "import nibabel as nib \n",
    "pat305 = nib.load(\"MICCAI_BraTS2020_TrainingData/BraTS20_Training_305/BraTS20_Training_305_seg.nii.gz\").get_fdata()\n",
    "print([np.array(np.where(i == 0)) for i in test_np_array])"
   ]
  },
  {
   "cell_type": "code",
   "execution_count": 202,
   "id": "intelligent-hearing",
   "metadata": {},
   "outputs": [
    {
     "data": {
      "text/plain": [
       "array([91, 91, 91, ..., 99, 91, 92], dtype=int64)"
      ]
     },
     "execution_count": 202,
     "metadata": {},
     "output_type": "execute_result"
    }
   ],
   "source": [
    "np.nonzero(pat305)[1]"
   ]
  },
  {
   "cell_type": "code",
   "execution_count": 169,
   "id": "offshore-associate",
   "metadata": {
    "scrolled": true
   },
   "outputs": [
    {
     "data": {
      "text/plain": [
       "<matplotlib.image.AxesImage at 0x23ae56bca00>"
      ]
     },
     "execution_count": 169,
     "metadata": {},
     "output_type": "execute_result"
    },
    {
     "data": {
      "image/png": "[encoded data removed]",
      "text/plain": [
       "<Figure size 432x288 with 1 Axes>"
      ]
     },
     "metadata": {
      "needs_background": "light"
     },
     "output_type": "display_data"
    }
   ],
   "source": [
    "import matplotlib.pyplot as plt\n",
    "\n",
    "plt.imshow(pat305[:,:,97])"
   ]
  },
  {
   "cell_type": "code",
   "execution_count": 45,
   "id": "roman-cartoon",
   "metadata": {},
   "outputs": [
    {
     "name": "stdout",
     "output_type": "stream",
     "text": [
      "[0 1 2 4]\n",
      "(155, 240, 240)\n"
     ]
    }
   ],
   "source": [
    "model_folder = \"20210311-070028_brats20_3d_pretrained_trainbatchsize_200_lr_0.001_epochs_50_epochbatch_200_epoch_30\"\n",
    "test = sitk.ReadImage(f\"segmentation_output/Wrong Preprocessing Seg Output/{model_folder}/Brats20ValidationData/BraTS20_Validation_061.nii.gz\")\n",
    "new = sitk.GetArrayFromImage(test)\n",
    "print(np.unique(new))\n",
    "print(new.shape)"
   ]
  },
  {
   "cell_type": "code",
   "execution_count": 46,
   "id": "annoying-delight",
   "metadata": {},
   "outputs": [
    {
     "name": "stdout",
     "output_type": "stream",
     "text": [
      "[0 1 2 4]\n",
      "(155, 240, 240)\n"
     ]
    }
   ],
   "source": [
    "model_folder = \"20210309-133958_brats20_3d_pretrained_new_lr_1_lr_0.0001_epochs_60_TESTINGONTRAINING_40\"\n",
    "test = sitk.ReadImage(f\"segmentation_output/Wrong Preprocessing Seg Output/{model_folder}/Brats20TrainingData/BraTS20_Training_061.nii.gz\")\n",
    "new = sitk.GetArrayFromImage(test)\n",
    "print(np.unique(new))\n",
    "print(new.shape)"
   ]
  },
  {
   "cell_type": "code",
   "execution_count": 79,
   "id": "civilian-speaking",
   "metadata": {},
   "outputs": [
    {
     "name": "stdout",
     "output_type": "stream",
     "text": [
      "[0 1 2 4]\n",
      "(155, 240, 240)\n"
     ]
    }
   ],
   "source": [
    "model_folder=\"20210321-070858_brats20_3d_small_training_2_lr_0.0001_epochs_70_epochbatch_75_epoch_UPGRADEDTRAININGDUMMY_10\"\n",
    "test = sitk.ReadImage(f\"segmentation_output/{model_folder}/Brats20TrainingData/BraTS20_Training_301.nii.gz\")\n",
    "new = sitk.GetArrayFromImage(test)\n",
    "print(np.unique(new))\n",
    "print(new.shape)"
   ]
  },
  {
   "cell_type": "code",
   "execution_count": 82,
   "id": "limited-tomato",
   "metadata": {},
   "outputs": [
    {
     "data": {
      "text/plain": [
       "(array([ 45,  45,  45, ..., 133, 133, 133], dtype=int64),\n",
       " array([109, 110, 110, ..., 131, 131, 135], dtype=int64),\n",
       " array([139, 138, 142, ..., 137, 139, 143], dtype=int64))"
      ]
     },
     "execution_count": 82,
     "metadata": {},
     "output_type": "execute_result"
    }
   ],
   "source": [
    "new.nonzero()"
   ]
  },
  {
   "cell_type": "code",
   "execution_count": 77,
   "id": "stuffed-eating",
   "metadata": {},
   "outputs": [
    {
     "name": "stdout",
     "output_type": "stream",
     "text": [
      "[0 1 2 4]\n",
      "(155, 240, 240)\n"
     ]
    }
   ],
   "source": [
    "model_folder = \"20210321-095418_brats20_3d_pretrained_trainbatchsize_100_2_lr_0.0001_epochs_50_epochbatch_100_epoch_UPDATEDVALIDATION_30\"\n",
    "test = sitk.ReadImage(f\"segmentation_output/{model_folder}/Brats20ValidationData/BraTS20_Validation_076.nii.gz\")\n",
    "new = sitk.GetArrayFromImage(test)\n",
    "print(np.unique(new))\n",
    "print(new.shape)"
   ]
  },
  {
   "cell_type": "code",
   "execution_count": 78,
   "id": "devoted-frequency",
   "metadata": {},
   "outputs": [
    {
     "name": "stdout",
     "output_type": "stream",
     "text": [
      "[0 1 2 4]\n",
      "(155, 240, 240)\n"
     ]
    }
   ],
   "source": [
    "test = sitk.ReadImage(\"segmentation_output/20210321-095418_brats20_3d_pretrained_trainbatchsize_100_2_lr_0.0001_epochs_50_epochbatch_100_epoch_UPDATEDVALIDATION_30/Brats20ValidationData/BraTS20_Validation_001.nii.gz\")\n",
    "new = sitk.GetArrayFromImage(test)\n",
    "print(np.unique(new))\n",
    "print(new.shape)"
   ]
  },
  {
   "cell_type": "code",
   "execution_count": 83,
   "id": "quiet-precipitation",
   "metadata": {},
   "outputs": [
    {
     "name": "stdout",
     "output_type": "stream",
     "text": [
      "[0 1 2 4]\n",
      "(155, 240, 240)\n"
     ]
    }
   ],
   "source": [
    "model_folder = \"20210309-021115_brats20_3d_pretrained_new_1_lr_0.01_epochs_60_40\"\n",
    "test = sitk.ReadImage(f\"segmentation_output/Wrong Preprocessing Seg Output/{model_folder}/Brats20ValidationData/BraTS20_Validation_061.nii.gz\")\n",
    "new = sitk.GetArrayFromImage(test)\n",
    "print(np.unique(new))\n",
    "print(new.shape)"
   ]
  },
  {
   "cell_type": "code",
   "execution_count": 23,
   "id": "square-assault",
   "metadata": {},
   "outputs": [
    {
     "data": {
      "text/plain": [
       "(155, 240, 240)"
      ]
     },
     "execution_count": 23,
     "metadata": {},
     "output_type": "execute_result"
    }
   ],
   "source": [
    "new.shape"
   ]
  },
  {
   "cell_type": "code",
   "execution_count": null,
   "id": "green-kitchen",
   "metadata": {},
   "outputs": [],
   "source": [
    "new"
   ]
  },
  {
   "cell_type": "code",
   "execution_count": 22,
   "id": "assigned-savannah",
   "metadata": {},
   "outputs": [
    {
     "data": {
      "text/plain": [
       "array([0, 1, 2, 4], dtype=uint8)"
      ]
     },
     "execution_count": 22,
     "metadata": {},
     "output_type": "execute_result"
    }
   ],
   "source": [
    "np.unique(new)"
   ]
  },
  {
   "cell_type": "code",
   "execution_count": 20,
   "id": "monetary-german",
   "metadata": {},
   "outputs": [
    {
     "data": {
      "text/plain": [
       "array([0, 1, 2, 4], dtype=uint8)"
      ]
     },
     "execution_count": 20,
     "metadata": {},
     "output_type": "execute_result"
    }
   ],
   "source": [
    "np.unique(new)"
   ]
  },
  {
   "cell_type": "code",
   "execution_count": 28,
   "id": "spectacular-instruction",
   "metadata": {},
   "outputs": [
    {
     "data": {
      "text/plain": [
       "<matplotlib.image.AxesImage at 0x1f95ac10160>"
      ]
     },
     "execution_count": 28,
     "metadata": {},
     "output_type": "execute_result"
    },
    {
     "data": {
      "image/png": "[encoded data removed]",
      "text/plain": [
       "<Figure size 432x288 with 1 Axes>"
      ]
     },
     "metadata": {
      "needs_background": "light"
     },
     "output_type": "display_data"
    }
   ],
   "source": [
    "plt.imshow(new[65,:,:])"
   ]
  },
  {
   "cell_type": "code",
   "execution_count": 185,
   "id": "quantitative-constraint",
   "metadata": {},
   "outputs": [],
   "source": [
    "test = np.ones([240,240,155],dtype=\"float32\")"
   ]
  },
  {
   "cell_type": "code",
   "execution_count": 133,
   "id": "representative-receptor",
   "metadata": {},
   "outputs": [
    {
     "name": "stdout",
     "output_type": "stream",
     "text": [
      "Current dir:  C:/Users/JiachennCJC/Documents/GitHub/brats-pretraining_jiachenn/MICCAI_BraTS2020_TrainingData_DUMMY/\n",
      "Found 69 patients\n"
     ]
    }
   ],
   "source": [
    "# Try to create dummy files lmao\n",
    "brats_folder_with_dummy_data_2020 = f\"{base_path}MICCAI_BraTS2020_TrainingData_DUMMY/\"\n",
    " \n",
    "list_of_patients = get_list_of_files_2020(brats_folder_with_dummy_data_2020)\n",
    "patient_names_training = [i[0].split('/')[-1].split('\\\\')[0] for i in list_of_patients] \n",
    "patient_names_validation = [i[0].split('/')[-1].split('\\\\')[0] for i in patient_folders_validation] \n",
    "\n",
    "# patient_names_training = patient_names_training[0:5]\n",
    "\n",
    "for i in patient_names_training:\n",
    "    test = np.ones([240,240,155],dtype=\"float32\")\n",
    "    img = nib.Nifti1Image(test, np.eye(4))\n",
    "#     nib.save(img, f\"{brats_folder_with_dummy_data_2020}\"+f\"{i}/\"+ f\"{i}_segUPDATE.nii.gz\")\n",
    "\n",
    "sitk.GetArrayFromImage(sitk.ReadImage(brats_folder_with_dummy_data_2020 + \"BraTS20_Training_301/BraTS20_Training_301_segUPDATE.nii.gz\")).shape"
   ]
  },
  {
   "cell_type": "code",
   "execution_count": 16,
   "id": "serial-creation",
   "metadata": {},
   "outputs": [
    {
     "data": {
      "text/plain": [
       "(4, 155, 240, 240)"
      ]
     },
     "execution_count": 16,
     "metadata": {},
     "output_type": "execute_result"
    }
   ],
   "source": [
    "# Validation data read\n",
    "test = sitk.ReadImage(case[0])\n",
    "sitk.GetArrayFromImage(test).shape"
   ]
  },
  {
   "cell_type": "code",
   "execution_count": 60,
   "id": "disabled-friday",
   "metadata": {},
   "outputs": [
    {
     "data": {
      "text/plain": [
       "['C:/Users/JiachennCJC/Documents/GitHub/brats-pretraining_jiachenn/MICCAI_BraTS2020_TrainingData/BraTS20_Training_002\\\\BraTS20_Training_002_t1.nii.gz',\n",
       " 'C:/Users/JiachennCJC/Documents/GitHub/brats-pretraining_jiachenn/MICCAI_BraTS2020_TrainingData/BraTS20_Training_002\\\\BraTS20_Training_002_t1ce.nii.gz',\n",
       " 'C:/Users/JiachennCJC/Documents/GitHub/brats-pretraining_jiachenn/MICCAI_BraTS2020_TrainingData/BraTS20_Training_002\\\\BraTS20_Training_002_t2.nii.gz',\n",
       " 'C:/Users/JiachennCJC/Documents/GitHub/brats-pretraining_jiachenn/MICCAI_BraTS2020_TrainingData/BraTS20_Training_002\\\\BraTS20_Training_002_flair.nii.gz',\n",
       " 'C:/Users/JiachennCJC/Documents/GitHub/brats-pretraining_jiachenn/MICCAI_BraTS2020_TrainingData/BraTS20_Training_002\\\\BraTS20_Training_002_seg.nii.gz']"
      ]
     },
     "execution_count": 60,
     "metadata": {},
     "output_type": "execute_result"
    }
   ],
   "source": [
    "short_list = patient_folders_train[0:2]\n",
    "case = short_list[1]\n",
    "case"
   ]
  },
  {
   "cell_type": "code",
   "execution_count": 61,
   "id": "moral-farming",
   "metadata": {},
   "outputs": [
    {
     "name": "stdout",
     "output_type": "stream",
     "text": [
      "Original shape is: (155, 240, 240)\n",
      "After concat shape is: (5, 155, 240, 240)\n",
      "Nonzero shape is (3, 2)\n",
      "Nonzero value is [[  0 139]\n",
      " [ 31 217]\n",
      " [ 53 186]]\n",
      "After cropping nonzero shape is : (5, 140, 187, 134)\n",
      "Brain mask shape: (140, 187, 134)\n",
      "0\n",
      "1\n",
      "2\n",
      "3\n",
      "Imgs npy after normalizing: (5, 140, 187, 134)\n"
     ]
    }
   ],
   "source": [
    "imgs_sitk = [sitk.ReadImage(i) for i in case]\n",
    "\n",
    "imgs_npy = [sitk.GetArrayFromImage(i) for i in imgs_sitk]\n",
    "\n",
    "# get some metadata\n",
    "spacing = imgs_sitk[0].GetSpacing()\n",
    "\n",
    "# the spacing returned by SimpleITK is in inverse order relative to the numpy array we receive. If we wanted to\n",
    "# resample the data and if the spacing was not isotropic (in BraTS all cases have already been resampled to 1x1x1mm\n",
    "# by the organizers) then we need to pay attention here. Therefore we bring the spacing into the correct order so\n",
    "# that spacing[0] actually corresponds to the spacing of the first axis of the numpy array\n",
    "spacing = np.array(spacing)[::-1]\n",
    "\n",
    "direction = imgs_sitk[0].GetDirection()\n",
    "origin = imgs_sitk[0].GetOrigin()\n",
    "\n",
    "original_shape = imgs_npy[0].shape\n",
    "print(f\"Original shape is: {original_shape}\")\n",
    "\n",
    "imgs_npy = np.concatenate([i[None] for i in imgs_npy]).astype(np.float32)\n",
    "print(f\"After concat shape is: {imgs_npy.shape}\")\n",
    "\n",
    "# now find the nonzero region and crop to that\n",
    "nonzero = [np.array(np.where(i != 0)) for i in imgs_npy]\n",
    "nonzero = [[np.min(i, 1), np.max(i, 1)] for i in nonzero]\n",
    "nonzero = np.array([np.min([i[0] for i in nonzero], 0), np.max([i[1] for i in nonzero], 0)]).T\n",
    "print(f\"Nonzero shape is {nonzero.shape}\")\n",
    "print(f\"Nonzero value is {nonzero}\")\n",
    "# nonzero now has shape 3, 2. It contains the (min, max) coordinate of nonzero voxels for each axis\n",
    "\n",
    "# now crop to nonzero, note that this applies the crop to all channels (t1,t1ce,flair,etc)\n",
    "imgs_npy = imgs_npy[:,\n",
    "           nonzero[0, 0] : nonzero[0, 1] + 1,\n",
    "           nonzero[1, 0]: nonzero[1, 1] + 1,\n",
    "           nonzero[2, 0]: nonzero[2, 1] + 1,\n",
    "           ]\n",
    "print(f\"After cropping nonzero shape is : {imgs_npy.shape}\")\n",
    "\n",
    "# now we create a brain mask that we use for normalization \n",
    "# this excludes the seg mask since imgs_npy[:-1] means its not covered\n",
    "nonzero_masks = [i != 0 for i in imgs_npy[:-1]]\n",
    "brain_mask = np.zeros(imgs_npy.shape[1:], dtype=bool)\n",
    "\n",
    "print(f\"Brain mask shape: {brain_mask.shape}\")\n",
    "\n",
    "for i in range(len(nonzero_masks)):\n",
    "    brain_mask = brain_mask | nonzero_masks[i]\n",
    "    \n",
    "# now normalize each modality with its mean and standard deviation (computed within the brain mask)\n",
    "# This also excludes normalizing the last element of the list (seg if 5 files)\n",
    "for i in range(len(imgs_npy) - 1):\n",
    "    print(i)\n",
    "    mean = imgs_npy[i][brain_mask].mean()\n",
    "    std = imgs_npy[i][brain_mask].std()\n",
    "    imgs_npy[i] = (imgs_npy[i] - mean) / (std + 1e-8)\n",
    "    imgs_npy[i][brain_mask == 0] = 0\n",
    "\n",
    "print(f\"Imgs npy after normalizing: {imgs_npy.shape}\")\n"
   ]
  },
  {
   "cell_type": "code",
   "execution_count": null,
   "id": "collected-preparation",
   "metadata": {},
   "outputs": [],
   "source": []
  },
  {
   "cell_type": "code",
   "execution_count": 73,
   "id": "military-cookie",
   "metadata": {},
   "outputs": [],
   "source": [
    "imgs_npy[-1][imgs_npy[-1]==3]=4"
   ]
  },
  {
   "cell_type": "code",
   "execution_count": 75,
   "id": "answering-international",
   "metadata": {},
   "outputs": [
    {
     "data": {
      "text/plain": [
       "array([4., 4., 4., ..., 4., 4., 4.], dtype=float32)"
      ]
     },
     "execution_count": 75,
     "metadata": {},
     "output_type": "execute_result"
    }
   ],
   "source": [
    "imgs_npy[-1][imgs_npy[-1]==4]"
   ]
  },
  {
   "cell_type": "code",
   "execution_count": 70,
   "id": "executive-emphasis",
   "metadata": {},
   "outputs": [
    {
     "data": {
      "text/plain": [
       "array([0., 1., 2., 3.], dtype=float32)"
      ]
     },
     "execution_count": 70,
     "metadata": {},
     "output_type": "execute_result"
    }
   ],
   "source": [
    "np.unique(imgs_npy[-1])"
   ]
  },
  {
   "cell_type": "code",
   "execution_count": 276,
   "id": "literary-luxembourg",
   "metadata": {},
   "outputs": [
    {
     "name": "stdout",
     "output_type": "stream",
     "text": [
      "0\n",
      "1\n",
      "2\n",
      "3\n",
      "4\n"
     ]
    }
   ],
   "source": [
    "for i in range(len(imgs_npy)):\n",
    "    print(i)\n",
    "    mean = imgs_npy[i][brain_mask].mean()\n",
    "    std = imgs_npy[i][brain_mask].std()\n",
    "    imgs_npy[i] = (imgs_npy[i] - mean) / (std + 1e-8)\n",
    "    imgs_npy[i][brain_mask == 0] = 0"
   ]
  },
  {
   "cell_type": "code",
   "execution_count": 275,
   "id": "presidential-roommate",
   "metadata": {
    "scrolled": true
   },
   "outputs": [
    {
     "data": {
      "text/plain": [
       "5"
      ]
     },
     "execution_count": 275,
     "metadata": {},
     "output_type": "execute_result"
    }
   ],
   "source": [
    "len(imgs_npy)"
   ]
  },
  {
   "cell_type": "code",
   "execution_count": 266,
   "id": "sought-adolescent",
   "metadata": {},
   "outputs": [
    {
     "data": {
      "text/plain": [
       "(array([0, 0, 0, ..., 4, 4, 4], dtype=int64),\n",
       " array([  0,   0,   0, ..., 108, 108, 108], dtype=int64),\n",
       " array([105, 106, 106, ...,  87,  88,  88], dtype=int64),\n",
       " array([72, 69, 70, ..., 53, 52, 53], dtype=int64))"
      ]
     },
     "execution_count": 266,
     "metadata": {},
     "output_type": "execute_result"
    }
   ],
   "source": [
    "imgs_npy.nonzero()"
   ]
  },
  {
   "cell_type": "code",
   "execution_count": 272,
   "id": "skilled-exposure",
   "metadata": {},
   "outputs": [
    {
     "data": {
      "text/plain": [
       "array([0, 1, 2, 3, 4, 5, 6, 7, 8])"
      ]
     },
     "execution_count": 272,
     "metadata": {},
     "output_type": "execute_result"
    }
   ],
   "source": [
    "np.arange(10)[:-1]"
   ]
  },
  {
   "cell_type": "code",
   "execution_count": 253,
   "id": "obvious-perfume",
   "metadata": {},
   "outputs": [
    {
     "data": {
      "text/plain": [
       "(4, 135, 173, 137)"
      ]
     },
     "execution_count": 253,
     "metadata": {},
     "output_type": "execute_result"
    }
   ],
   "source": [
    "imgs_npy[:-1].shape"
   ]
  },
  {
   "cell_type": "code",
   "execution_count": 51,
   "id": "twenty-banner",
   "metadata": {},
   "outputs": [],
   "source": [
    "from brats_data_loader import *\n",
    "\n",
    "patdata, metadata = BRATSDataLoader.load_patient(\"brats_data_preprocessed/Brats20ValidationData/BraTS20_Validation_001\")"
   ]
  },
  {
   "cell_type": "code",
   "execution_count": 152,
   "id": "ordinary-accident",
   "metadata": {},
   "outputs": [
    {
     "name": "stdout",
     "output_type": "stream",
     "text": [
      "(4, 135, 173, 137) {'spacing': array([1., 1., 1.]), 'direction': (1.0, 0.0, 0.0, 0.0, 1.0, 0.0, 0.0, 0.0, 1.0), 'origin': (-0.0, -239.0, 0.0), 'original_shape': (155, 240, 240), 'nonzero_region': array([[  4, 138],\n",
      "       [ 42, 214],\n",
      "       [ 49, 185]], dtype=int64)}\n",
      "[array([[  4,   4,   4, ..., 138, 138, 138],\n",
      "       [147, 148, 148, ..., 124, 124, 125],\n",
      "       [121, 118, 119, ..., 131, 132, 131]], dtype=int64), array([[  4,   4,   4, ..., 138, 138, 138],\n",
      "       [147, 148, 148, ..., 124, 124, 125],\n",
      "       [121, 118, 119, ..., 131, 132, 131]], dtype=int64), array([[  4,   4,   4, ..., 138, 138, 138],\n",
      "       [147, 148, 148, ..., 124, 124, 125],\n",
      "       [121, 118, 119, ..., 131, 132, 131]], dtype=int64), array([[  4,   4,   4, ..., 138, 138, 138],\n",
      "       [147, 148, 148, ..., 124, 124, 125],\n",
      "       [121, 118, 119, ..., 131, 132, 131]], dtype=int64), array([[ 30,  30,  30, ..., 112, 112, 112],\n",
      "       [107, 107, 108, ..., 129, 130, 130],\n",
      "       [ 93,  94,  93, ..., 102, 101, 102]], dtype=int64)]\n"
     ]
    }
   ],
   "source": [
    "patdata, metadata = BRATSDataLoader.load_patient(\"brats_data_preprocessed/Brats20TrainingData/BraTS20_Training_001\")\n",
    "print(patdata.shape, metadata)\n",
    "print([np.array(np.where(i != 0)) for i in test_np_array])"
   ]
  },
  {
   "cell_type": "code",
   "execution_count": null,
   "id": "ranking-ethnic",
   "metadata": {},
   "outputs": [],
   "source": [
    "# def load_and_preprocess_UPDATED2020(case, patient_name, output_folder):\n",
    "\"\"\"\n",
    "loads, preprocesses and saves a case\n",
    "This is what happens here:\n",
    "1) load all images and stack them to a 4d array\n",
    "2) crop to nonzero region, this removes unnecessary zero-valued regions and reduces computation time\n",
    "3) normalize the nonzero region with its mean and standard deviation\n",
    "4) save 4d tensor as numpy array. Also save metadata required to create niftis again (required for export\n",
    "of predictions)\n",
    "\n",
    ":param case: list of lists of directory\n",
    ":param patient_name: list of patient name (strings)\n",
    ":return:\n",
    "\"\"\"\n",
    "# load SimpleITK Images\n",
    "imgs_sitk = [sitk.ReadImage(i) for i in case]\n",
    "\n",
    "# get pixel arrays from SimpleITK images\n",
    "imgs_npy = [sitk.GetArrayFromImage(i) for i in imgs_sitk]\n",
    "\n",
    "# get some metadata\n",
    "spacing = imgs_sitk[0].GetSpacing()\n",
    "# the spacing returned by SimpleITK is in inverse order relative to the numpy array we receive. If we wanted to\n",
    "# resample the data and if the spacing was not isotropic (in BraTS all cases have already been resampled to 1x1x1mm\n",
    "# by the organizers) then we need to pay attention here. Therefore we bring the spacing into the correct order so\n",
    "# that spacing[0] actually corresponds to the spacing of the first axis of the numpy array\n",
    "spacing = np.array(spacing)[::-1]\n",
    "\n",
    "direction = imgs_sitk[0].GetDirection()\n",
    "origin = imgs_sitk[0].GetOrigin()\n",
    "\n",
    "original_shape = imgs_npy[0].shape\n",
    "\n",
    "# now stack the images into one 4d array, cast to float because we will get rounding problems if we don't\n",
    "imgs_npy = np.concatenate([i[None] for i in imgs_npy]).astype(np.float32)\n",
    "\n",
    "# now find the nonzero region and crop to that\n",
    "nonzero = [np.array(np.where(i != 0)) for i in imgs_npy]\n",
    "nonzero = [[np.min(i, 1), np.max(i, 1)] for i in nonzero]\n",
    "nonzero = np.array([np.min([i[0] for i in nonzero], 0), np.max([i[1] for i in nonzero], 0)]).T\n",
    "# nonzero now has shape 3, 2. It contains the (min, max) coordinate of nonzero voxels for each axis\n",
    "\n",
    "# now crop to nonzero\n",
    "imgs_npy = imgs_npy[:,\n",
    "           nonzero[0, 0] : nonzero[0, 1] + 1,\n",
    "           nonzero[1, 0]: nonzero[1, 1] + 1,\n",
    "           nonzero[2, 0]: nonzero[2, 1] + 1,\n",
    "           ]\n",
    "\n",
    "# now we create a brain mask that we use for normalization\n",
    "nonzero_masks = [i != 0 for i in imgs_npy[:-1]]\n",
    "brain_mask = np.zeros(imgs_npy.shape[1:], dtype=bool)\n",
    "for i in range(len(nonzero_masks)):\n",
    "    brain_mask = brain_mask | nonzero_masks[i]\n",
    "\n",
    "# now normalize each modality with its mean and standard deviation (computed within the brain mask)\n",
    "for i in range(len(imgs_npy) - 1):\n",
    "    mean = imgs_npy[i][brain_mask].mean()\n",
    "    std = imgs_npy[i][brain_mask].std()\n",
    "    imgs_npy[i] = (imgs_npy[i] - mean) / (std + 1e-8)\n",
    "    imgs_npy[i][brain_mask == 0] = 0\n",
    "\n",
    "# the segmentation of brats has the values 0, 1, 2 and 4. This is pretty inconvenient to say the least.\n",
    "# We move everything that is 4 to 3\n",
    "imgs_npy[-1][imgs_npy[-1] == 4] = 3\n",
    "\n",
    "# now save as npz\n",
    "# np.save(join(output_folder, patient_name + \".npy\"), imgs_npy)\n",
    "# print(\"Output folder end: \", join(output_folder, patient_name + \".npy\"))\n",
    "# print(\"\\n\")\n",
    "\n",
    "\n",
    "metadata = {\n",
    "    'spacing': spacing,\n",
    "    'direction': direction,\n",
    "    'origin': origin,\n",
    "    'original_shape': original_shape,\n",
    "    'nonzero_region': nonzero\n",
    "}\n",
    "\n",
    "# save_pickle(metadata, join(output_folder, patient_name + \".pkl\"))\n"
   ]
  }
 ],
 "metadata": {
  "kernelspec": {
   "display_name": "Python 3",
   "language": "python",
   "name": "python3"
  },
  "language_info": {
   "codemirror_mode": {
    "name": "ipython",
    "version": 3
   },
   "file_extension": ".py",
   "mimetype": "text/x-python",
   "name": "python",
   "nbconvert_exporter": "python",
   "pygments_lexer": "ipython3",
   "version": "3.8.5"
  }
 },
 "nbformat": 4,
 "nbformat_minor": 5
}
