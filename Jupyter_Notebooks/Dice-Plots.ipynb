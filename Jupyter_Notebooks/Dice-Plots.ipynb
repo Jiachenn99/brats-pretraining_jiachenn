{
 "cells": [
  {
   "cell_type": "code",
   "execution_count": 2,
   "metadata": {},
   "outputs": [],
   "source": [
    "import pandas as pd\n",
    "import numpy as np\n",
    "\n",
    "data_path = \"CSV_Results/\"\n",
    "model_name_original = \"Original_config_\"\n",
    "model_name_updated_40 = \"4_channels_riccian_weights_40_\"\n",
    "model_name_updated_50 = \"4_channels_riccian_weights_50_\""
   ]
  },
  {
   "cell_type": "code",
   "execution_count": 27,
   "metadata": {},
   "outputs": [],
   "source": [
    "# # Reading in results csv from IPP CBICA for 3 iterations\n",
    "# data_path = \"CSV_Results/\"\n",
    "# model_name_original = \"Original_config_\"\n",
    "# model_name_updated_40 = \"4_channels_riccian_weights_40_\"\n",
    "# model_name_updated_50 = \"4_channels_riccian_weights_50_\"\n",
    "\n",
    "# # Original configs\n",
    "# df1_ori = pd.read_csv(data_path+model_name_original+\"1.csv\")\n",
    "# df2_ori = pd.read_csv(data_path+model_name_original+\"2.csv\")\n",
    "# df3_ori = pd.read_csv(data_path+model_name_original+\"3.csv\")\n",
    "\n",
    "# # Updated configs - epoch 40\n",
    "# df1_4_chan_riccian_weight_40 = pd.read_csv(data_path+model_name_updated_40+\"1.csv\")\n",
    "# df2_4_chan_riccian_weight_40 = pd.read_csv(data_path+model_name_updated_40+\"2.csv\")\n",
    "# df3_4_chan_riccian_weight_40 = pd.read_csv(data_path+model_name_updated_40+\"3.csv\")\n",
    "\n",
    "# # Updated configs - epoch 50\n",
    "# df1_4_chan_riccian_weight_50= pd.read_csv(data_path+model_name_updated_50+\"1.csv\")\n",
    "# df2_4_chan_riccian_weight_50 = pd.read_csv(data_path+model_name_updated_50+\"2.csv\")\n",
    "# df3_4_chan_riccian_weight_50 = pd.read_csv(data_path+model_name_updated_50+\"3.csv\")"
   ]
  },
  {
   "cell_type": "code",
   "execution_count": 15,
   "metadata": {},
   "outputs": [],
   "source": [
    "cols_wanted = [\"Dice_ET\", \"Dice_WT\", \"Dice_TC\", \"Hausdorff95_ET\", \"Hausdorff95_WT\", \"Hausdorff95_TC\"]\n",
    "\n",
    "ori_dict_mean = {\"Dice_ET\":[], \"Dice_TC\":[], \"Dice_WT\":[], \"Hausdorff95_ET\":[], \"Hausdorff95_WT\":[], \"Hausdorff95_TC\":[]}\n",
    "# four_chan_weight_40_mean = {\"Dice_ET\":[], \"Dice_TC\":[], \"Dice_WT\":[], \"Hausdorff95_ET\":[], \"Hausdorff95_WT\":[], \"Hausdorff95_TC\":[]}\n",
    "four_chan_weight_50_mean = {\"Dice_ET\":[], \"Dice_TC\":[], \"Dice_WT\":[], \"Hausdorff95_ET\":[], \"Hausdorff95_WT\":[], \"Hausdorff95_TC\":[]}\n",
    "\n",
    "ori_dict_stdev = {\"Dice_ET\":[], \"Dice_TC\":[], \"Dice_WT\":[], \"Hausdorff95_ET\":[], \"Hausdorff95_WT\":[], \"Hausdorff95_TC\":[]}\n",
    "# four_chan_weight_40_stdev = {\"Dice_ET\":[], \"Dice_TC\":[], \"Dice_WT\":[], \"Hausdorff95_ET\":[], \"Hausdorff95_WT\":[], \"Hausdorff95_TC\":[]}\n",
    "four_chan_weight_50_stdev = {\"Dice_ET\":[], \"Dice_TC\":[], \"Dice_WT\":[], \"Hausdorff95_ET\":[], \"Hausdorff95_WT\":[], \"Hausdorff95_TC\":[]}\n",
    "\n",
    "for i in range(1,6):\n",
    "    for j in cols_wanted:\n",
    "        \n",
    "        # load files\n",
    "        ori_file = pd.read_csv(data_path+model_name_original+f\"{i}.csv\")\n",
    "#         four_chan_40_file = pd.read_csv(data_path+model_name_updated_40+f\"{i}.csv\")\n",
    "        four_chan_50_file = pd.read_csv(data_path+model_name_updated_50+f\"{i}.csv\")\n",
    "        \n",
    "        # Mean stdev hausdorff\n",
    "        ori_mean = ori_file[j].iloc[125]\n",
    "        ori_stdev = ori_file[j].iloc[126]\n",
    "        \n",
    "#         four_chan_40_mean = four_chan_40_file[j].iloc[125]\n",
    "#         four_chan_40_stdev = four_chan_40_file[j].iloc[126]\n",
    "        \n",
    "        four_chan_50_mean = four_chan_50_file[j].iloc[125]\n",
    "        four_chan_50_stdev = four_chan_50_file[j].iloc[126]\n",
    "                        \n",
    "        # Appending\n",
    "        ori_dict_mean[j].append(ori_mean)\n",
    "        ori_dict_stdev[j].append(ori_stdev)\n",
    "        \n",
    "#         four_chan_weight_40_mean[j].append(four_chan_40_mean)\n",
    "#         four_chan_weight_40_stdev[j].append(four_chan_40_stdev)\n",
    "        \n",
    "        four_chan_weight_50_mean[j].append(four_chan_50_mean)\n",
    "        four_chan_weight_50_stdev[j].append(four_chan_50_stdev)   "
   ]
  },
  {
   "cell_type": "code",
   "execution_count": 7,
   "metadata": {},
   "outputs": [
    {
     "data": {
      "text/plain": [
       "{'Dice_ET': [0.7116, 0.72392, 0.7119, 0.72101, 0.70852],\n",
       " 'Dice_TC': [0.77837, 0.76129, 0.74051, 0.79194, 0.76952],\n",
       " 'Dice_WT': [0.87163, 0.88033, 0.87982, 0.87887, 0.8889],\n",
       " 'Hausdorff95_ET': [28.11111, 28.19456, 30.91873, 32.43877, 37.95619],\n",
       " 'Hausdorff95_WT': [6.48057, 5.79844, 6.55151, 5.81133, 6.41052],\n",
       " 'Hausdorff95_TC': [14.4179, 16.82588, 19.77373, 14.08267, 19.27268]}"
      ]
     },
     "execution_count": 7,
     "metadata": {},
     "output_type": "execute_result"
    }
   ],
   "source": [
    "ori_dict_mean"
   ]
  },
  {
   "cell_type": "code",
   "execution_count": 35,
   "metadata": {},
   "outputs": [
    {
     "data": {
      "text/plain": [
       "{'Dice_ET': [0.71993, 0.72721, 0.73303, 0.70664],\n",
       " 'Dice_TC': [0.77411, 0.77712, 0.76826, 0.77015],\n",
       " 'Dice_WT': [0.87618, 0.87334, 0.87701, 0.86267],\n",
       " 'Hausdorff95_ET': [31.34179, 28.49415, 28.53409, 31.4537],\n",
       " 'Hausdorff95_WT': [7.40111, 6.63698, 7.57293, 6.77217],\n",
       " 'Hausdorff95_TC': [13.2937, 19.13, 16.74863, 13.64211]}"
      ]
     },
     "execution_count": 35,
     "metadata": {},
     "output_type": "execute_result"
    }
   ],
   "source": [
    "four_chan_weight_50_mean"
   ]
  },
  {
   "cell_type": "code",
   "execution_count": 36,
   "metadata": {},
   "outputs": [
    {
     "data": {
      "text/plain": [
       "{'Dice_ET': [0.28985, 0.27957, 0.2738, 0.30221],\n",
       " 'Dice_TC': [0.24597, 0.24318, 0.25369, 0.2507],\n",
       " 'Dice_WT': [0.09054, 0.08415, 0.08855, 0.11994],\n",
       " 'Hausdorff95_ET': [95.91111, 90.83592, 90.81427, 95.91029],\n",
       " 'Hausdorff95_WT': [12.38877, 10.10007, 12.68354, 9.6029],\n",
       " 'Hausdorff95_TC': [47.29605, 65.4538, 57.30001, 47.44504]}"
      ]
     },
     "execution_count": 36,
     "metadata": {},
     "output_type": "execute_result"
    }
   ],
   "source": [
    "four_chan_weight_50_stdev"
   ]
  },
  {
   "cell_type": "code",
   "execution_count": 16,
   "metadata": {},
   "outputs": [
    {
     "name": "stdout",
     "output_type": "stream",
     "text": [
      "Original Configurations over 50 epochs, 5 iterations\n",
      "====================================================================================\n",
      "Class Dice_ET mean: 0.7154\n",
      "Class Dice_ET stdev: 0.2969\n",
      "\n",
      "Class Dice_WT mean: 0.8799\n",
      "Class Dice_WT stdev: 0.0887\n",
      "\n",
      "Class Dice_TC mean: 0.7683\n",
      "Class Dice_TC stdev: 0.2527\n",
      "\n",
      "Class Hausdorff95_ET mean: 31.5239\n",
      "Class Hausdorff95_ET stdev: 95.8151\n",
      "\n",
      "Class Hausdorff95_WT mean: 6.2105\n",
      "Class Hausdorff95_WT stdev: 10.308\n",
      "\n",
      "Class Hausdorff95_TC mean: 16.8746\n",
      "Class Hausdorff95_TC stdev: 56.6682\n",
      "\n",
      "Weight Update 4 channels Riccian Epoch 50 over 50 epochs, 5 iterations\n",
      "====================================================================================\n",
      "Class Dice_ET mean: 0.7186\n",
      "Class Dice_ET stdev: 0.287\n",
      "\n",
      "Class Dice_WT mean: 0.8736\n",
      "Class Dice_WT stdev: 0.0945\n",
      "\n",
      "Class Dice_TC mean: 0.773\n",
      "Class Dice_TC stdev: 0.2473\n",
      "\n",
      "Class Hausdorff95_ET mean: 32.1839\n",
      "Class Hausdorff95_ET stdev: 96.5243\n",
      "\n",
      "Class Hausdorff95_WT mean: 6.779\n",
      "Class Hausdorff95_WT stdev: 10.0423\n",
      "\n",
      "Class Hausdorff95_TC mean: 15.2054\n",
      "Class Hausdorff95_TC stdev: 52.8709\n",
      "\n"
     ]
    }
   ],
   "source": [
    "for j in cols_wanted:\n",
    "    # Mean\n",
    "    ori_dict_mean[j] = np.around(np.mean(ori_dict_mean[j]), 4)\n",
    "#     four_chan_weight_40_mean[j] = np.around(np.mean(four_chan_weight_40_mean[j]),4)\n",
    "    four_chan_weight_50_mean[j] = np.around(np.mean(four_chan_weight_50_mean[j]),4)\n",
    "    \n",
    "    # Stdev\n",
    "    ori_dict_stdev[j] = np.around(np.mean(ori_dict_stdev[j]),4)\n",
    "#     four_chan_weight_40_stdev[j] = np.around(np.mean(four_chan_weight_40_stdev[j]),4)\n",
    "    four_chan_weight_50_stdev[j] = np.around(np.mean(four_chan_weight_50_stdev[j]),4)\n",
    "\n",
    "print(f\"Original Configurations over 50 epochs, {i} iterations\")\n",
    "print(\"====================================================================================\")\n",
    "for x in cols_wanted:\n",
    "    print(f\"Class {x} mean: {ori_dict_mean[x]}\")\n",
    "    print(f\"Class {x} stdev: {ori_dict_stdev[x]}\\n\")\n",
    "\n",
    "\n",
    "# print(\"Weight Update 4 channels Riccian Epoch 40 over 50 epochs, 3 iterations\")\n",
    "# print(\"====================================================================================\")\n",
    "\n",
    "# for i in cols_wanted:\n",
    "\n",
    "#     print(f\"Class {i} mean: {four_chan_weight_40_mean[i]}\")\n",
    "#     print(f\"Class {i} stdev: {four_chan_weight_40_stdev[i]}\\n\")\n",
    "\n",
    "\n",
    "print(f\"Weight Update 4 channels Riccian Epoch 50 over 50 epochs, {i} iterations\")\n",
    "print(\"====================================================================================\")\n",
    "\n",
    "for x in cols_wanted:\n",
    "    print(f\"Class {x} mean: {four_chan_weight_50_mean[x]}\")\n",
    "    print(f\"Class {x} stdev: {four_chan_weight_50_stdev[x]}\\n\")\n"
   ]
  },
  {
   "cell_type": "code",
   "execution_count": 52,
   "metadata": {},
   "outputs": [
    {
     "data": {
      "text/html": [
       "<div>\n",
       "<style scoped>\n",
       "    .dataframe tbody tr th:only-of-type {\n",
       "        vertical-align: middle;\n",
       "    }\n",
       "\n",
       "    .dataframe tbody tr th {\n",
       "        vertical-align: top;\n",
       "    }\n",
       "\n",
       "    .dataframe thead th {\n",
       "        text-align: right;\n",
       "    }\n",
       "</style>\n",
       "<table border=\"1\" class=\"dataframe\">\n",
       "  <thead>\n",
       "    <tr style=\"text-align: right;\">\n",
       "      <th></th>\n",
       "      <th>Dice_ET</th>\n",
       "      <th>Dice_TC</th>\n",
       "      <th>Dice_WT</th>\n",
       "      <th>Hausdorff95_ET</th>\n",
       "      <th>Hausdorff95_WT</th>\n",
       "      <th>Hausdorff95_TC</th>\n",
       "    </tr>\n",
       "  </thead>\n",
       "  <tbody>\n",
       "    <tr>\n",
       "      <th>0</th>\n",
       "      <td>0.29618</td>\n",
       "      <td>0.22834</td>\n",
       "      <td>0.10225</td>\n",
       "      <td>90.85842</td>\n",
       "      <td>11.04909</td>\n",
       "      <td>47.28199</td>\n",
       "    </tr>\n",
       "    <tr>\n",
       "      <th>1</th>\n",
       "      <td>0.28973</td>\n",
       "      <td>0.26967</td>\n",
       "      <td>0.08900</td>\n",
       "      <td>90.81945</td>\n",
       "      <td>8.60420</td>\n",
       "      <td>57.18337</td>\n",
       "    </tr>\n",
       "    <tr>\n",
       "      <th>2</th>\n",
       "      <td>0.29685</td>\n",
       "      <td>0.27645</td>\n",
       "      <td>0.08596</td>\n",
       "      <td>95.93027</td>\n",
       "      <td>11.35505</td>\n",
       "      <td>65.41213</td>\n",
       "    </tr>\n",
       "  </tbody>\n",
       "</table>\n",
       "</div>"
      ],
      "text/plain": [
       "   Dice_ET  Dice_TC  Dice_WT  Hausdorff95_ET  Hausdorff95_WT  Hausdorff95_TC\n",
       "0  0.29618  0.22834  0.10225        90.85842        11.04909        47.28199\n",
       "1  0.28973  0.26967  0.08900        90.81945         8.60420        57.18337\n",
       "2  0.29685  0.27645  0.08596        95.93027        11.35505        65.41213"
      ]
     },
     "execution_count": 52,
     "metadata": {},
     "output_type": "execute_result"
    }
   ],
   "source": [
    "pd.DataFrame(ori_dict_stdev)"
   ]
  },
  {
   "cell_type": "code",
   "execution_count": 50,
   "metadata": {},
   "outputs": [
    {
     "data": {
      "text/html": [
       "<div>\n",
       "<style scoped>\n",
       "    .dataframe tbody tr th:only-of-type {\n",
       "        vertical-align: middle;\n",
       "    }\n",
       "\n",
       "    .dataframe tbody tr th {\n",
       "        vertical-align: top;\n",
       "    }\n",
       "\n",
       "    .dataframe thead th {\n",
       "        text-align: right;\n",
       "    }\n",
       "</style>\n",
       "<table border=\"1\" class=\"dataframe\">\n",
       "  <thead>\n",
       "    <tr style=\"text-align: right;\">\n",
       "      <th></th>\n",
       "      <th>Dice_ET</th>\n",
       "      <th>Dice_TC</th>\n",
       "      <th>Dice_WT</th>\n",
       "      <th>Hausdorff95_ET</th>\n",
       "      <th>Hausdorff95_WT</th>\n",
       "      <th>Hausdorff95_TC</th>\n",
       "    </tr>\n",
       "  </thead>\n",
       "  <tbody>\n",
       "    <tr>\n",
       "      <th>0</th>\n",
       "      <td>0.71993</td>\n",
       "      <td>0.77411</td>\n",
       "      <td>0.87618</td>\n",
       "      <td>31.34179</td>\n",
       "      <td>7.40111</td>\n",
       "      <td>13.29370</td>\n",
       "    </tr>\n",
       "    <tr>\n",
       "      <th>1</th>\n",
       "      <td>0.72721</td>\n",
       "      <td>0.77712</td>\n",
       "      <td>0.87334</td>\n",
       "      <td>28.49415</td>\n",
       "      <td>6.63698</td>\n",
       "      <td>19.13000</td>\n",
       "    </tr>\n",
       "    <tr>\n",
       "      <th>2</th>\n",
       "      <td>0.68347</td>\n",
       "      <td>0.75525</td>\n",
       "      <td>0.88240</td>\n",
       "      <td>41.43325</td>\n",
       "      <td>8.75683</td>\n",
       "      <td>18.54415</td>\n",
       "    </tr>\n",
       "  </tbody>\n",
       "</table>\n",
       "</div>"
      ],
      "text/plain": [
       "   Dice_ET  Dice_TC  Dice_WT  Hausdorff95_ET  Hausdorff95_WT  Hausdorff95_TC\n",
       "0  0.71993  0.77411  0.87618        31.34179         7.40111        13.29370\n",
       "1  0.72721  0.77712  0.87334        28.49415         6.63698        19.13000\n",
       "2  0.68347  0.75525  0.88240        41.43325         8.75683        18.54415"
      ]
     },
     "execution_count": 50,
     "metadata": {},
     "output_type": "execute_result"
    }
   ],
   "source": [
    "pd.DataFrame(four_chan_weight_50_mean)"
   ]
  },
  {
   "cell_type": "code",
   "execution_count": 51,
   "metadata": {},
   "outputs": [
    {
     "data": {
      "text/html": [
       "<div>\n",
       "<style scoped>\n",
       "    .dataframe tbody tr th:only-of-type {\n",
       "        vertical-align: middle;\n",
       "    }\n",
       "\n",
       "    .dataframe tbody tr th {\n",
       "        vertical-align: top;\n",
       "    }\n",
       "\n",
       "    .dataframe thead th {\n",
       "        text-align: right;\n",
       "    }\n",
       "</style>\n",
       "<table border=\"1\" class=\"dataframe\">\n",
       "  <thead>\n",
       "    <tr style=\"text-align: right;\">\n",
       "      <th></th>\n",
       "      <th>Dice_ET</th>\n",
       "      <th>Dice_TC</th>\n",
       "      <th>Dice_WT</th>\n",
       "      <th>Hausdorff95_ET</th>\n",
       "      <th>Hausdorff95_WT</th>\n",
       "      <th>Hausdorff95_TC</th>\n",
       "    </tr>\n",
       "  </thead>\n",
       "  <tbody>\n",
       "    <tr>\n",
       "      <th>0</th>\n",
       "      <td>0.28985</td>\n",
       "      <td>0.24597</td>\n",
       "      <td>0.09054</td>\n",
       "      <td>95.91111</td>\n",
       "      <td>12.38877</td>\n",
       "      <td>47.29605</td>\n",
       "    </tr>\n",
       "    <tr>\n",
       "      <th>1</th>\n",
       "      <td>0.27957</td>\n",
       "      <td>0.24318</td>\n",
       "      <td>0.08415</td>\n",
       "      <td>90.83592</td>\n",
       "      <td>10.10007</td>\n",
       "      <td>65.45380</td>\n",
       "    </tr>\n",
       "    <tr>\n",
       "      <th>2</th>\n",
       "      <td>0.31608</td>\n",
       "      <td>0.27084</td>\n",
       "      <td>0.07663</td>\n",
       "      <td>109.15066</td>\n",
       "      <td>15.06535</td>\n",
       "      <td>58.03410</td>\n",
       "    </tr>\n",
       "  </tbody>\n",
       "</table>\n",
       "</div>"
      ],
      "text/plain": [
       "   Dice_ET  Dice_TC  Dice_WT  Hausdorff95_ET  Hausdorff95_WT  Hausdorff95_TC\n",
       "0  0.28985  0.24597  0.09054        95.91111        12.38877        47.29605\n",
       "1  0.27957  0.24318  0.08415        90.83592        10.10007        65.45380\n",
       "2  0.31608  0.27084  0.07663       109.15066        15.06535        58.03410"
      ]
     },
     "execution_count": 51,
     "metadata": {},
     "output_type": "execute_result"
    }
   ],
   "source": [
    "pd.DataFrame(four_chan_weight_50_stdev)"
   ]
  },
  {
   "cell_type": "markdown",
   "metadata": {},
   "source": [
    "# Old Code"
   ]
  },
  {
   "cell_type": "code",
   "execution_count": 3,
   "metadata": {},
   "outputs": [],
   "source": [
    "# Reading in files\n",
    "# df_albu3d_pretrain_tc = pd.read_csv(\"Albunet3d_pretrained_tumor_core.csv\")\n",
    "# df_albu3d_pretrain_edema = pd.read_csv(\"Albunet3d_pretrained_edema.csv\")\n",
    "# df_albu3d_pretrain_et = pd.read_csv(\"Albunet3d_pretrained_enhancing.csv\")\n",
    "# df_albu3d_nopretrain_tc = pd.read_csv(\"Albunet3d_nopretrained_tumor_core.csv\")\n",
    "# df_albu3d_nopretrain_edema = pd.read_csv(\"Albunet3d_nopretrained_edema.csv\")\n",
    "# df_albu3d_nopretrain_et = pd.read_csv(\"Albunet3d_nopretrained_enhancing.csv\")\n",
    "df_albu3d_pretrain = pd.read_csv(\"Albunet3d_pretrained_results.csv\")\n",
    "df_albu3d_nopretrain = pd.read_csv(\"Albunet3d_nopretrained_results.csv\")"
   ]
  },
  {
   "cell_type": "code",
   "execution_count": 4,
   "metadata": {},
   "outputs": [
    {
     "data": {
      "text/plain": [
       "count    255.000000\n",
       "mean       0.871228\n",
       "std        0.116540\n",
       "min        0.000000\n",
       "25%        0.880441\n",
       "50%        0.894318\n",
       "75%        0.903556\n",
       "max        0.922000\n",
       "Name: edema, dtype: float64"
      ]
     },
     "execution_count": 4,
     "metadata": {},
     "output_type": "execute_result"
    }
   ],
   "source": [
    "df_albu3d_pretrain[\"edema\"].describe()"
   ]
  },
  {
   "cell_type": "code",
   "execution_count": 89,
   "metadata": {},
   "outputs": [
    {
     "name": "stdout",
     "output_type": "stream",
     "text": [
      "Pretrained Results\n",
      "====================================================================================\n",
      "edema Dice Score statistics across 5 iterations, 50 epochs each: \n",
      "Mean: 0.8712279991191976\n",
      "Std dev: 0.1165400212486859\n",
      "\n",
      "tumor_core Dice Score statistics across 5 iterations, 50 epochs each: \n",
      "Mean: 0.7814780083795388\n",
      "Std dev: 0.1300823911056182\n",
      "\n",
      "enhancing Dice Score statistics across 5 iterations, 50 epochs each: \n",
      "Mean: 0.7788612670374706\n",
      "Std dev: 0.13015856166614048\n",
      "\n",
      "Non-Pretrained Results\n",
      "====================================================================================\n",
      "edema Dice Score statistics across 5 iterations, 50 epochs each: \n",
      "Mean: 0.8528236293617417\n",
      "Std dev: 0.11931768032098479\n",
      "\n",
      "tumor_core Dice Score statistics across 5 iterations, 50 epochs each: \n",
      "Mean: 0.7391472797913878\n",
      "Std dev: 0.1467935776319859\n",
      "\n",
      "enhancing Dice Score statistics across 5 iterations, 50 epochs each: \n",
      "Mean: 0.7451924637179165\n",
      "Std dev: 0.15094752423520594\n",
      "\n"
     ]
    }
   ],
   "source": [
    "print(\"Pretrained Results\")\n",
    "print(\"====================================================================================\")\n",
    "for i in df_albu3d_pretrain.columns.tolist():\n",
    "    print(f\"{i} Dice Score statistics across 5 iterations, 50 epochs each: \")\n",
    "    print(f\"Mean: {df_albu3d_pretrain[i].describe().loc['mean']}\")\n",
    "    print(f\"Std dev: {df_albu3d_pretrain[i].describe().loc['std']}\\n\")\n",
    "    \n",
    "print(\"Non-Pretrained Results\")\n",
    "print(\"====================================================================================\")\n",
    "for i in df_albu3d_nopretrain.columns.tolist():\n",
    "    print(f\"{i} Dice Score statistics across 5 iterations, 50 epochs each: \")\n",
    "    print(f\"Mean: {df_albu3d_nopretrain[i].describe().loc['mean']}\")\n",
    "    print(f\"Std dev: {df_albu3d_nopretrain[i].describe().loc['std']}\\n\")"
   ]
  },
  {
   "cell_type": "code",
   "execution_count": 90,
   "metadata": {},
   "outputs": [
    {
     "data": {
      "text/html": [
       "<div>\n",
       "<style scoped>\n",
       "    .dataframe tbody tr th:only-of-type {\n",
       "        vertical-align: middle;\n",
       "    }\n",
       "\n",
       "    .dataframe tbody tr th {\n",
       "        vertical-align: top;\n",
       "    }\n",
       "\n",
       "    .dataframe thead th {\n",
       "        text-align: right;\n",
       "    }\n",
       "</style>\n",
       "<table border=\"1\" class=\"dataframe\">\n",
       "  <thead>\n",
       "    <tr style=\"text-align: right;\">\n",
       "      <th></th>\n",
       "      <th>Albunet3D (pretr)</th>\n",
       "      <th>Albunet3D (no pretr)</th>\n",
       "    </tr>\n",
       "  </thead>\n",
       "  <tbody>\n",
       "    <tr>\n",
       "      <th>0</th>\n",
       "      <td>0.000000</td>\n",
       "      <td>0.000000</td>\n",
       "    </tr>\n",
       "    <tr>\n",
       "      <th>1</th>\n",
       "      <td>0.525409</td>\n",
       "      <td>0.331788</td>\n",
       "    </tr>\n",
       "    <tr>\n",
       "      <th>2</th>\n",
       "      <td>0.631919</td>\n",
       "      <td>0.486074</td>\n",
       "    </tr>\n",
       "    <tr>\n",
       "      <th>3</th>\n",
       "      <td>0.748729</td>\n",
       "      <td>0.631946</td>\n",
       "    </tr>\n",
       "    <tr>\n",
       "      <th>4</th>\n",
       "      <td>0.754222</td>\n",
       "      <td>0.516755</td>\n",
       "    </tr>\n",
       "  </tbody>\n",
       "</table>\n",
       "</div>"
      ],
      "text/plain": [
       "   Albunet3D (pretr)  Albunet3D (no pretr)\n",
       "0           0.000000              0.000000\n",
       "1           0.525409              0.331788\n",
       "2           0.631919              0.486074\n",
       "3           0.748729              0.631946\n",
       "4           0.754222              0.516755"
      ]
     },
     "execution_count": 90,
     "metadata": {},
     "output_type": "execute_result"
    }
   ],
   "source": [
    "# dices_data = np.vstack([df_albu3d_pretrain.edema.values, df_albu3d_nopretrain.edema.values]).T\n",
    "# dices_data = np.vstack([df_albu3d_pretrain.tumor_core.values, df_albu3d_nopretrain.tumor_core.values]).T\n",
    "dices_data = np.vstack([df_albu3d_pretrain.enhancing.values, df_albu3d_nopretrain.enhancing.values]).T\n",
    "\n",
    "df_dices = pd.DataFrame(data=dices_data, columns=[\"Albunet3D (pretr)\",\"Albunet3D (no pretr)\"])\n",
    "df_dices.head()"
   ]
  },
  {
   "cell_type": "code",
   "execution_count": 4,
   "metadata": {},
   "outputs": [],
   "source": [
    "dices_data = np.vstack([ucl_tc_dice, albu3d_pretrain, albu3d_nopretrain, albu2d_pretrain, albu2d_nopretrain]).T"
   ]
  },
  {
   "cell_type": "code",
   "execution_count": 5,
   "metadata": {},
   "outputs": [],
   "source": [
    "df_dices = pd.DataFrame(data=dices_data, columns=['UCL-TIG (baseline)', 'AlbuNet3D (pretr.)', 'AlbuNet3D (no pretr.)', 'AlbuNet2D (pretr.)', 'AlbuNet2D (no pretr.)'])"
   ]
  },
  {
   "cell_type": "code",
   "execution_count": 6,
   "metadata": {},
   "outputs": [
    {
     "data": {
      "text/html": [
       "<div>\n",
       "<style scoped>\n",
       "    .dataframe tbody tr th:only-of-type {\n",
       "        vertical-align: middle;\n",
       "    }\n",
       "\n",
       "    .dataframe tbody tr th {\n",
       "        vertical-align: top;\n",
       "    }\n",
       "\n",
       "    .dataframe thead th {\n",
       "        text-align: right;\n",
       "    }\n",
       "</style>\n",
       "<table border=\"1\" class=\"dataframe\">\n",
       "  <thead>\n",
       "    <tr style=\"text-align: right;\">\n",
       "      <th></th>\n",
       "      <th>UCL-TIG (baseline)</th>\n",
       "      <th>AlbuNet3D (pretr.)</th>\n",
       "      <th>AlbuNet3D (no pretr.)</th>\n",
       "      <th>AlbuNet2D (pretr.)</th>\n",
       "      <th>AlbuNet2D (no pretr.)</th>\n",
       "    </tr>\n",
       "  </thead>\n",
       "  <tbody>\n",
       "    <tr>\n",
       "      <th>0</th>\n",
       "      <td>0.94066</td>\n",
       "      <td>0.93747</td>\n",
       "      <td>0.92770</td>\n",
       "      <td>0.92105</td>\n",
       "      <td>0.93299</td>\n",
       "    </tr>\n",
       "    <tr>\n",
       "      <th>1</th>\n",
       "      <td>0.95684</td>\n",
       "      <td>0.94147</td>\n",
       "      <td>0.95118</td>\n",
       "      <td>0.95390</td>\n",
       "      <td>0.94478</td>\n",
       "    </tr>\n",
       "    <tr>\n",
       "      <th>2</th>\n",
       "      <td>0.93997</td>\n",
       "      <td>0.93049</td>\n",
       "      <td>0.93531</td>\n",
       "      <td>0.93727</td>\n",
       "      <td>0.92257</td>\n",
       "    </tr>\n",
       "    <tr>\n",
       "      <th>3</th>\n",
       "      <td>0.93035</td>\n",
       "      <td>0.94043</td>\n",
       "      <td>0.93331</td>\n",
       "      <td>0.93619</td>\n",
       "      <td>0.93133</td>\n",
       "    </tr>\n",
       "    <tr>\n",
       "      <th>4</th>\n",
       "      <td>0.89697</td>\n",
       "      <td>0.87612</td>\n",
       "      <td>0.52061</td>\n",
       "      <td>0.27447</td>\n",
       "      <td>0.37945</td>\n",
       "    </tr>\n",
       "  </tbody>\n",
       "</table>\n",
       "</div>"
      ],
      "text/plain": [
       "   UCL-TIG (baseline)  AlbuNet3D (pretr.)  AlbuNet3D (no pretr.)  \\\n",
       "0             0.94066             0.93747                0.92770   \n",
       "1             0.95684             0.94147                0.95118   \n",
       "2             0.93997             0.93049                0.93531   \n",
       "3             0.93035             0.94043                0.93331   \n",
       "4             0.89697             0.87612                0.52061   \n",
       "\n",
       "   AlbuNet2D (pretr.)  AlbuNet2D (no pretr.)  \n",
       "0             0.92105                0.93299  \n",
       "1             0.95390                0.94478  \n",
       "2             0.93727                0.92257  \n",
       "3             0.93619                0.93133  \n",
       "4             0.27447                0.37945  "
      ]
     },
     "execution_count": 6,
     "metadata": {},
     "output_type": "execute_result"
    }
   ],
   "source": [
    "df_dices.head()"
   ]
  },
  {
   "cell_type": "code",
   "execution_count": 83,
   "metadata": {},
   "outputs": [
    {
     "data": {
      "image/png": "[encoded data removed]",
      "text/plain": [
       "<Figure size 864x432 with 1 Axes>"
      ]
     },
     "metadata": {},
     "output_type": "display_data"
    }
   ],
   "source": [
    "# sns.set_context(\"talk\")\n",
    "sns.set(rc={'figure.figsize':(12,6)})\n",
    "sns.set_style(\"whitegrid\", {\"text.color\": \"0\", \"xtick.color\": \"0\", \"ytick.color\": \"0\"})\n",
    "sns.set_context(\"notebook\", font_scale=2)\n",
    "# sns.despine()\n",
    "#my_pal = {\"UCL-TIG\": \"b\", \"AlbuNet2D (pretr.)\": \"r\", \"AlbuNet2D (no pretr.)\":\"y\"}\n",
    "# palette=my_pal,\n",
    "ax = sns.boxplot(data=df_dices, palette=sns.color_palette(\"Set3\"), orient=\"h\", width=0.8, showmeans=True).set_xlabel('Dice Score')\n",
    "# .set_title('BraTS \\'18 Tumor Core Dice Scores')\n",
    "\n",
    "plt.tight_layout()\n",
    "plt.title(\"Box plot of average dice scores of enhancing tumor\")\n",
    "# plt.savefig(\"dice_boxplot.pdf\")\n",
    "plt.show()"
   ]
  },
  {
   "cell_type": "code",
   "execution_count": 19,
   "metadata": {},
   "outputs": [
    {
     "name": "stdout",
     "output_type": "stream",
     "text": [
      "-2.1058174564248917 0.037143505619409004\n",
      "Samples are likely drawn from different distributions (reject H0)\n"
     ]
    }
   ],
   "source": [
    "from scipy.stats import ttest_ind\n",
    "\n",
    "# calculate the significance\n",
    "value, pvalue = ttest_ind(x, y, equal_var=True)\n",
    "print(value, pvalue)\n",
    "if pvalue > 0.05:\n",
    "    print('Samples are likely drawn from the same distributions (fail to reject H0)')\n",
    "else:\n",
    "    print('Samples are likely drawn from different distributions (reject H0)')"
   ]
  },
  {
   "cell_type": "code",
   "execution_count": 26,
   "metadata": {},
   "outputs": [],
   "source": [
    "np.random.seed(66)\n",
    "x = np.random.normal(loc=0, scale=0.2, size=66)\n",
    "y = np.random.normal(loc=0.07, scale=0.2, size=66)"
   ]
  },
  {
   "cell_type": "code",
   "execution_count": 76,
   "metadata": {},
   "outputs": [],
   "source": [
    "import matplotlib.pyplot as plt"
   ]
  },
  {
   "cell_type": "code",
   "execution_count": 9,
   "metadata": {},
   "outputs": [
    {
     "data": {
      "image/png": "[encoded data removed]",
      "text/plain": [
       "<Figure size 864x432 with 1 Axes>"
      ]
     },
     "metadata": {},
     "output_type": "display_data"
    }
   ],
   "source": [
    "# sns.set_context(\"talk\")\n",
    "sns.set(rc={'figure.figsize':(12,6)})\n",
    "sns.set_style(\"whitegrid\", {\"text.color\": \"0\", \"xtick.color\": \"0\", \"ytick.color\": \"0\"})\n",
    "sns.set_context(\"notebook\", font_scale=2)\n",
    "# sns.despine()\n",
    "#my_pal = {\"UCL-TIG\": \"b\", \"AlbuNet2D (pretr.)\": \"r\", \"AlbuNet2D (no pretr.)\":\"y\"}\n",
    "# palette=my_pal,\n",
    "ax = sns.boxplot(data=df_dices, palette=sns.color_palette(\"Set3\"), orient=\"h\", width=0.8, showmeans=True).set_xlabel('Dice Score')\n",
    "# .set_title('BraTS \\'18 Tumor Core Dice Scores')\n",
    "\n",
    "plt.tight_layout()\n",
    "plt.savefig(\"dice_boxplot.pdf\")\n",
    "plt.show()"
   ]
  },
  {
   "cell_type": "code",
   "execution_count": 49,
   "metadata": {},
   "outputs": [
    {
     "ename": "NameError",
     "evalue": "name 'rcParams' is not defined",
     "output_type": "error",
     "traceback": [
      "\u001b[0;31m---------------------------------------------------------------------------\u001b[0m",
      "\u001b[0;31mNameError\u001b[0m                                 Traceback (most recent call last)",
      "\u001b[0;32m<ipython-input-49-e153aa3c815f>\u001b[0m in \u001b[0;36m<module>\u001b[0;34m()\u001b[0m\n\u001b[0;32m----> 1\u001b[0;31m \u001b[0mrcParams\u001b[0m\u001b[0;34m.\u001b[0m\u001b[0mkeys\u001b[0m\u001b[0;34m(\u001b[0m\u001b[0;34m)\u001b[0m\u001b[0;34m\u001b[0m\u001b[0m\n\u001b[0m",
      "\u001b[0;31mNameError\u001b[0m: name 'rcParams' is not defined"
     ]
    }
   ],
   "source": [
    "rcParams.keys()"
   ]
  },
  {
   "cell_type": "code",
   "execution_count": 15,
   "metadata": {},
   "outputs": [
    {
     "data": {
      "image/png": "[encoded data removed]",
      "text/plain": [
       "<Figure size 864x720 with 1 Axes>"
      ]
     },
     "metadata": {},
     "output_type": "display_data"
    }
   ],
   "source": [
    "# sns.set_context(\"talk\")\n",
    "sns.set(rc={'figure.figsize':(12,10)})\n",
    "sns.set_style(\"whitegrid\", {\"text.color\": \"0\", \"xtick.color\": \"0\", \"ytick.color\": \"0\"})\n",
    "sns.set_context(\"notebook\", font_scale=2)\n",
    "# sns.despine()\n",
    "my_pal = {\"UCL-TIG\": \"b\", \"AlbuNet (pretr.)\": \"r\", \"AlbuNet (no pretr.)\":\"y\"}\n",
    "ax = sns.boxplot(data=df_dices, orient=\"v\", palette=my_pal, width=0.8, showmeans=True).set_title('Dice Scores on the BRATS \\'18 validation data')"
   ]
  }
 ],
 "metadata": {
  "kernelspec": {
   "display_name": "Python 3",
   "language": "python",
   "name": "python3"
  },
  "language_info": {
   "codemirror_mode": {
    "name": "ipython",
    "version": 3
   },
   "file_extension": ".py",
   "mimetype": "text/x-python",
   "name": "python",
   "nbconvert_exporter": "python",
   "pygments_lexer": "ipython3",
   "version": "3.8.5"
  }
 },
 "nbformat": 4,
 "nbformat_minor": 2
}
